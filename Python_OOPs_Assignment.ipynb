{
  "nbformat": 4,
  "nbformat_minor": 0,
  "metadata": {
    "colab": {
      "provenance": []
    },
    "kernelspec": {
      "name": "python3",
      "display_name": "Python 3"
    },
    "language_info": {
      "name": "python"
    }
  },
  "cells": [
    {
      "cell_type": "markdown",
      "source": [
        "                          ***** Python OOPs Questions ****\n"
      ],
      "metadata": {
        "id": "u8rArBgmFd7Y"
      }
    },
    {
      "cell_type": "markdown",
      "source": [
        "Ques1: What is Object-Oriented Programming (OOP)?\n",
        "- Ans: Object-Oriented Programming (OOP) is a programming approach that structures code around \"objects\". These objects combine data (attributes) and the actions (methods) that operate on that data. Think of it like building with LEGOs: each brick is an object with properties like size and color (attributes) and can be connected to other bricks (methods). This differs from procedural programming, which focuses on sequences of instructions.\n",
        "\n",
        "In Python, OOP is implemented using classes and objects. A class is a blueprint for creating objects. It defines the attributes and methods that objects of that class will have. An object, also known as an instance, is a specific realization of a class. For example, you could have a class called \"Dog\" with attributes like \"breed\" and \"name\" and methods like \"bark\" and \"fetch\". You could then create individual dog objects, each with its own specific breed and name.\n",
        "\n",
        "Ques2:  What is a class in OOP?\n",
        "- Ans: In Object-Oriented Programming (OOP), a class is a blueprint or template for creating objects. It defines the structure and behavior of a group of objects that share common characteristics and functionalities.\n",
        "\n",
        "Ques3: What is an object in OOP?\n",
        "- Ans: an object is a fundamental unit that combines data (attributes) and actions (methods) to represent a real-world entity or concept. It's essentially an instance of a class, a blueprint that defines the object's structure and behavior.\n",
        "\n",
        "Ques4: What is the difference between abstraction and encapsulation?\n",
        "- Ans: Abstraction focuses on what an object does, hiding unnecessary implementation details and exposing only essential functionalities. Encapsulation, on the other hand, focuses on how an object does it, bundling data and methods into a single unit and restricting direct access to protect data integrity.\n",
        "\n",
        "Ques5: What are dunder methods in Python?\n",
        "- Ans: Dunder methods, also known as magic methods, are special methods in Python that begin and end with double underscores.\n",
        "\n",
        "Ques6: Explain the concept of inheritance in OOPH?\n",
        "- Ans: Inheritance in Object-Oriented Programming (OOP) is a mechanism where a class (called the derived or child class) can inherit properties and behaviors from another class (the base or parent class). This allows for code reuse and establishes a hierarchical relationship between classes, making it easier to create specialized classes from more general ones.\n",
        "\n",
        "Ques7: What is polymorphism in OOP?\n",
        "- Ans: polymorphism, meaning \"many forms,\" allows objects of different classes to be treated as objects of a common superclass, enabling them to respond to the same method call in different ways. This concept promotes code reusability and flexibility, allowing multiple classes to implement the same method with variations.\n",
        "\n",
        "Ques8: How is encapsulation achieved in Python?\n",
        "- Ans: Encapsulation in Python is achieved by restricting access to attributes and methods, effectively hiding the internal state of an object and preventing unintended modifications from outside the class. This is primarily done through naming conventions, as Python doesn't enforce access modifiers like public, private, or protected in the same way as some other languages.\n",
        "\n",
        "Ques9: What is a constructor in Python?\n",
        "- Ans: A constructor in Python is a special method within a class that initializes the attributes of an object when the object is created. It is defined using the name __init__(self, ...), where self refers to the instance of the object being created, and ... represents any additional parameters needed to initialize the object's attributes. When a new object of a class is instantiated, the __init__ method is automatically called, allowing you to set up the initial state of the object.\n",
        "\n",
        "\n",
        "Ques10: What are class and static methods in Python?\n",
        "- Ans: both static and class methods are used to define methods that are bound to the class rather than its instances. However, they serve different purposes and have distinct characteristics.\n",
        "\n",
        "Ques11: What is method overloading in Python?\n",
        "- Ans: Method overloading is a feature in object-oriented programming where multiple methods with the same name can exist but with different parameters. Unlike languages like Java or C++, Python does not support method overloading by default. However, there are several ways to achieve similar functionality in Python.\n",
        "\n",
        "Ques12: What is method overriding in OOP?\n",
        "- Ans: Method overriding is a feature in object-oriented programming that allows a subclass to provide a specific implementation of a method that is already defined in its superclass. This is a key aspect of polymorphism, enabling different behaviors for the same method based on the object that invokes it.\n",
        "\n",
        "Ques13: What is a property decorator in Python?\n",
        "- Ans: The @property decorator in Python is a built-in decorator that allows you to define methods in a class that act as getters, setters, and deleters for attributes. This decorator provides a Pythonic way to manage instance attributes by adding functionality to access and modify them without directly interacting with the attributes themselves.\n",
        "\n",
        "Ques15: Why is polymorphism important in OOP?\n",
        "- Ans: polymorphism is the ability (in programming) to present the same interface for differing underlying forms (data types).\n",
        "\n",
        "Ques16: What is an abstract class in Python?\n",
        "- Ans: An abstract class in Python is a class that cannot be instantiated directly and serves as a blueprint for other classes. It defines a common interface for its subclasses, ensuring that they implement specific methods.\n",
        "\n",
        "Ques17: What is the difference between a class variable and an instance variable?\n",
        "- Ans:In object-oriented programming, a class variable (also called a static variable) belongs to the class itself and is shared across all instances of that class, while an instance variable belongs to each individual instance (object) of the class.\n",
        "\n",
        "Ques18: What is multiple inheritance in Python?\n",
        "- Ans: Multiple inheritance in Python is a feature that allows a class to inherit attributes and methods from multiple parent classes. This enables a class to combine functionalities from different sources, promoting code reuse and flexibility.\n",
        "\n",
        "Ques19: Explain the purpose of ‘’__str__’ and ‘__repr__’ ‘ methods in Python.\n",
        "- Ans:  the __str__ and __repr__ methods are special methods (also known as \"dunder\" methods because of the double underscores) that define how an object is represented as a string. They are crucial for debugging, logging, and user interaction by displaying information about an object in a readable format. However, they target different audiences and serve different purposes.\n",
        "\n",
        "__str__:\n",
        "\n",
        "Purpose: To provide a user-friendly, informal, and easily readable string representation of an object. It's the output you'd want a regular user to see.\n",
        "Usage: Called by the str() built-in function, the print() function, and the format() function.\n",
        "Goal: Provide a concise summary of the object's most important attributes, without necessarily including every detail.\n",
        "Example: If you have a Car object, __str__ might return \"Red 2023 Honda Civic\".\n",
        "\n",
        "__repr__:\n",
        "\n",
        "Purpose: To provide a more detailed, technical, and unambiguous string representation of the object. Primarily for developers during debugging and development.\n",
        "Usage: Called by the repr() built-in function and when you display an object in an interactive Python shell.\n",
        "Goal: Provide enough information so that the object can be reconstructed. Ideally, eval(repr(object)) should create a new object equal to the original.\n",
        "Example: For the same Car object, __repr__ might return \"Car(color='Red', make='Honda', model='Civic', year=2023)\".\n",
        "Key Differences and Best Practices:\n",
        "\n",
        "Target Audience: __str__ for users; __repr__ for developers.\n",
        "Level of Detail: __str__ is concise and readable; __repr__ is detailed and unambiguous.\n",
        "Reproducibility: __repr__ should ideally allow for object recreation using eval().\n",
        "Fallback: If __str__ is not defined, Python uses __repr__ as a fallback when str() or print() are called. So, it's recommended to at least define __repr__ for all custom classes.\n",
        "Clarity: Both methods should return strings that clearly convey the type and state of the object.\n",
        "\n",
        "Ques20: What is the significance of the ‘super()’ function in Python?\n",
        "- Ans: The super() function is essential for efficient and effective inheritance in Python. It helps in calling parent class methods, reducing redundancy, managing multiple inheritance, and ensuring proper initialization of parent classes.\n",
        "\n",
        "Ques21: What is the significance of the __del__ method in Python?\n",
        "- Ans: The __del__ method in Python is a special method, also known as a destructor, that is called when an object is about to be destroyed. It allows you to define specific cleanup actions that should be taken when an object is garbage collected.\n",
        "\n",
        "Ques22: What is the difference between @staticmethod and @classmethod in Python.\n",
        "- Ans: The key difference between @staticmethod and @classmethod in Python lies in their interaction with the class and its instances.\n",
        "\n",
        "@staticmethod:\n",
        "This decorator defines a method that is independent of the class and its instances. It behaves like a regular function, but it's grouped within the class for logical organization. It doesn't receive any implicit arguments (neither self nor cls). It cannot access or modify the class or instance state.\n",
        "\n",
        "@classmethod:\n",
        "This decorator defines a method that is bound to the class, not the instance. It receives the class itself as the first argument (cls). It can access and modify the class state but cannot directly access instance-specific data.\n",
        "\n",
        "Ques23: How does polymorphism work in Python with inheritance?\n",
        "- Ans: Polymorphism, meaning \"many forms,\" enables objects of different classes to respond to the same method call in their own specific ways. When combined with inheritance, polymorphism allows subclasses to override methods of their parent class, leading to varied behaviors depending on the object's actual type.\n",
        "\n",
        "Ques24: What is method chaining in Python OOP?\n",
        "- Ans: Method chaining in Python is a programming technique used in object-oriented programming where multiple methods are called sequentially on the same object in a single statement. This is achieved by having each method in the chain return the object itself (self), allowing subsequent methods to be called directly on the returned object. It enhances code readability and conciseness by avoiding the need for intermediate variables.\n",
        "\n",
        "Ques25: What is the purpose of the __call__ method in Python?\n",
        "- Ans: The __call__ method in Python enables instances of a class to be called like regular functions. When a class defines the __call__ method, its instances become callable objects. This allows you to encapsulate functionality within an object and execute it by calling the instance directly."
      ],
      "metadata": {
        "id": "yWyA1htmFovg"
      }
    },
    {
      "cell_type": "markdown",
      "source": [
        "              ********* Practical Questions **************\n"
      ],
      "metadata": {
        "id": "bPkfhTiCOqse"
      }
    },
    {
      "cell_type": "code",
      "source": [
        "#Ques1: Create a parent class Animal with a method speak() that prints a generic message. Create a child class Dog that overrides the speak() method to print \"Bark!\".\n",
        "\n",
        "class Animal:\n",
        "    def speak(self):\n",
        "        print(\"Generic animal sound\")\n",
        "\n",
        "class Dog(Animal):\n",
        "    def speak(self):\n",
        "        print(\"Bark!\")\n",
        "\n",
        "# Example usage\n",
        "animal = Animal()\n",
        "animal.speak()  # Output: Generic animal sound\n",
        "\n",
        "dog = Dog()\n",
        "dog.speak()  # Output: Bark!"
      ],
      "metadata": {
        "id": "YA4eH4B_O2wG",
        "colab": {
          "base_uri": "https://localhost:8080/"
        },
        "outputId": "476a0a49-ce74-4744-837b-8585bc676187"
      },
      "execution_count": 1,
      "outputs": [
        {
          "output_type": "stream",
          "name": "stdout",
          "text": [
            "Generic animal sound\n",
            "Bark!\n"
          ]
        }
      ]
    },
    {
      "cell_type": "code",
      "source": [
        "#Ques2: Write a program to create an abstract class Shape with a method area(). Derive classes Circle and Rectangle from it and implement the area() method in both.\n",
        "\n",
        "from abc import ABC, abstractmethod\n",
        "import math\n",
        "\n",
        "class Shape(ABC):\n",
        "    @abstractmethod\n",
        "    def area(self):\n",
        "\n",
        "        pass\n",
        "\n",
        "class Circle(Shape):\n",
        "    def __init__(self, radius):\n",
        "        self.radius = radius\n",
        "\n",
        "    def area(self):\n",
        "        return math.pi * self.radius**2\n",
        "\n",
        "class Rectangle(Shape):\n",
        "    def __init__(self, width, height):\n",
        "        self.width = width\n",
        "        self.height = height\n",
        "\n",
        "    def area(self):\n",
        "        return self.width * self.height\n",
        "\n",
        "# Example usage\n",
        "circle = Circle(5)\n",
        "print(\"Circle area:\", circle.area())\n",
        "\n",
        "rectangle = Rectangle(4, 6)\n",
        "print(\"Rectangle area:\", rectangle.area())"
      ],
      "metadata": {
        "id": "iuS2kGIYPd-2",
        "colab": {
          "base_uri": "https://localhost:8080/"
        },
        "outputId": "d5915fae-45fe-4f1d-93eb-d5b161963d1a"
      },
      "execution_count": 2,
      "outputs": [
        {
          "output_type": "stream",
          "name": "stdout",
          "text": [
            "Circle area: 78.53981633974483\n",
            "Rectangle area: 24\n"
          ]
        }
      ]
    },
    {
      "cell_type": "code",
      "source": [
        "#Ques3: Implement a multi-level inheritance scenario where a class Vehicle has an attribute type. Derive a class Car and further derive a class ElectricCar that adds a battery attribute.\n",
        "class Vehicle:\n",
        "    def __init__(self, type):\n",
        "        self.type = type\n",
        "\n",
        "class Car(Vehicle):\n",
        "    def __init__(self, type, model):\n",
        "        super().__init__(type)\n",
        "        self.model = model\n",
        "\n",
        "class ElectricCar(Car):\n",
        "    def __init__(self, type, model, battery_capacity):\n",
        "        super().__init__(type, model)\n",
        "        self.battery_capacity = battery_capacity\n",
        "\n",
        "# Example usage\n",
        "my_electric_car = ElectricCar(\"electric\", \"Tesla Model S\", 100)\n",
        "print(f\"Vehicle type: {my_electric_car.type}\")\n",
        "print(f\"Car model: {my_electric_car.model}\")\n",
        "print(f\"Battery capacity: {my_electric_car.battery_capacity}\")\n"
      ],
      "metadata": {
        "id": "mtmDEXMcQZFQ",
        "colab": {
          "base_uri": "https://localhost:8080/"
        },
        "outputId": "58ac4efd-0750-4817-ba89-4fb984270987"
      },
      "execution_count": 3,
      "outputs": [
        {
          "output_type": "stream",
          "name": "stdout",
          "text": [
            "Vehicle type: electric\n",
            "Car model: Tesla Model S\n",
            "Battery capacity: 100\n"
          ]
        }
      ]
    },
    {
      "cell_type": "code",
      "source": [
        " #Ques4: Demonstrate polymorphism by creating a base class Bird with a method fly(). Create two derived classes Sparrow and Penguin that override the fly() method.\n",
        "class Bird:\n",
        "  def fly(self):\n",
        "    print(\"Birds can fly.\")"
      ],
      "metadata": {
        "id": "HKP_WijuQuQ-"
      },
      "execution_count": 9,
      "outputs": []
    },
    {
      "cell_type": "code",
      "source": [
        " #Ques5: Write a program to demonstrate encapsulation by creating a class BankAccount with private attributes balance and methods to deposit, withdraw, and check balance.\n",
        "class BankAccount:\n",
        "  def __init__(self, initial_balance):\n",
        "      self._balance = initial_balance"
      ],
      "metadata": {
        "id": "hWix0fs5Q4om"
      },
      "execution_count": 11,
      "outputs": []
    },
    {
      "cell_type": "code",
      "source": [
        "#Ques6: Demonstrate runtime polymorphism using a method play() in a base class Instrument. Derive classes Guitar and Piano that implement their own version of play().\n",
        "class Instrument:\n",
        "   def play(self):\n",
        "    print(\"Generic instrument sound\")"
      ],
      "metadata": {
        "id": "rlbG-ESCQ_wU"
      },
      "execution_count": 12,
      "outputs": []
    },
    {
      "cell_type": "code",
      "source": [
        " #Ques7: Create a class MathOperations with a class method add_numbers() to add two numbers and a static method subtract_numbers() to subtract two numbers.\n",
        "class MathOperations:\n",
        "  @classmethod\n",
        "  def add_numbers(cls, a, b):\n",
        "      return a + b\n",
        "\n",
        "  @staticmethod\n",
        "  def subtract_numbers(a, b):\n",
        "      return a - b"
      ],
      "metadata": {
        "id": "x_gGzXJERHWx"
      },
      "execution_count": 13,
      "outputs": []
    },
    {
      "cell_type": "code",
      "source": [
        "#Ques8: Implement a class Person with a class method to count the total number of persons created.\n",
        "class Person:\n",
        "    total_persons = 0\n",
        "\n",
        "    def __init__(self, name):\n",
        "        self.name = name\n",
        "        Person.total_persons += 1\n",
        "\n",
        "    @classmethod\n",
        "    def get_total_persons(cls):\n",
        "        return cls.total_persons"
      ],
      "metadata": {
        "id": "m5bYHPLnROr4"
      },
      "execution_count": 14,
      "outputs": []
    },
    {
      "cell_type": "code",
      "source": [
        "#Ques9: Write a class Fraction with attributes numerator and denominator. Override the str method to display the fraction as \"numerator/denominator\".\n",
        "class Fraction:\n",
        "    def __init__(self, numerator, denominator):\n",
        "        self.numerator = numerator\n",
        "        self.denominator = denominator\n",
        "\n",
        "    def __str__(self):\n",
        "        return f\"{self.numerator}/{self.denominator}\""
      ],
      "metadata": {
        "id": "vsfdOveCRXu3"
      },
      "execution_count": 15,
      "outputs": []
    },
    {
      "cell_type": "code",
      "source": [
        "#Ques10:Demonstrate operator overloading by creating a class Vector and overriding the add method to add two vectors.\n",
        "class Vector:\n",
        "    def __init__(self, x, y):\n",
        "        self.x = x\n",
        "        self.y = y\n",
        "\n",
        "    def __add__(self, other):\n",
        "        return Vector(self.x + other.x, self.y + other.y)"
      ],
      "metadata": {
        "id": "2ztTU_PRRhDO"
      },
      "execution_count": 16,
      "outputs": []
    },
    {
      "cell_type": "code",
      "source": [
        "#Ques11: Create a class Person with attributes name and age. Add a method greet() that prints \"Hello, my name is {name} and I am {age} years old.\"\n",
        "\n",
        "class Person:\n",
        "    def __init__(self, name, age):\n",
        "        self.name = name\n",
        "        self.age = age\n",
        "\n",
        "    def greet(self):\n",
        "        print(f\"Hello, my name is {self.name} and I am {self.age} years old.\")\n"
      ],
      "metadata": {
        "id": "vVaNcrBARmoX"
      },
      "execution_count": 17,
      "outputs": []
    },
    {
      "cell_type": "code",
      "source": [
        "#Ques12: Implement a class Student with attributes name and grades. Create a method average_grade() to compute the average of the grades.\n",
        "\n",
        "class Student:\n",
        "    def __init__(self, name, grades):\n",
        "        self.name = name\n",
        "        self.grades = grades\n",
        "\n",
        "    def average_grade(self):\n",
        "        return sum(self.grades) / len(self.grades)"
      ],
      "metadata": {
        "id": "FjfyCHc3R6bO"
      },
      "execution_count": 18,
      "outputs": []
    },
    {
      "cell_type": "code",
      "source": [
        "#Ques13: Create a class Rectangle with methods set_dimensions() to set the dimensions and area() to calculate the area.\n",
        "class Rectangle:\n",
        "    def __init__(self, length, width):\n",
        "        self.length = length\n",
        "        self.width = width"
      ],
      "metadata": {
        "id": "L2_dVkRxSCwA"
      },
      "execution_count": 19,
      "outputs": []
    },
    {
      "cell_type": "code",
      "source": [
        "#Ques14: Create a class Employee with a method calculate_salary() that computes the salary based on hours worked and hourly rate. Create a derived class Manager that adds a bonus to the salary.\n",
        "class Employee:\n",
        "    def __init__(self, name, hours_worked, hourly_rate):\n",
        "        self.name = name\n",
        "        self.hours_worked = hours_worked\n",
        "        self.hourly_rate = hourly_rate"
      ],
      "metadata": {
        "id": "HSZNTBPZSNXH"
      },
      "execution_count": 20,
      "outputs": []
    },
    {
      "cell_type": "code",
      "source": [
        "#Ques15: Create a class Product with attributes name, price, and quantity. Implement a method total_price() that calculates the total price of the product.\n",
        "class Product:\n",
        "    def __init__(self, name, price, quantity):\n",
        "        self.name = name\n",
        "        self.price = price\n",
        "        self.quantity = quantity"
      ],
      "metadata": {
        "id": "eHRJ2bn2SUNw"
      },
      "execution_count": 21,
      "outputs": []
    },
    {
      "cell_type": "code",
      "source": [
        "#Ques16: Create a class Animal with an abstract method sound(). Create two derived classes Cow and Sheep that implement the sound() method.\n",
        "class Animal:\n",
        "    def sound(self):\n",
        "        pass"
      ],
      "metadata": {
        "id": "iRjG6N8HSatv"
      },
      "execution_count": 22,
      "outputs": []
    },
    {
      "cell_type": "code",
      "source": [
        "#Ques17: Create a class Book with attributes title, author, and year_published. Add a method get_book_info() that returns a formatted string with the book's details.\n",
        "class Book:\n",
        "    def __init__(self, title, author, year_published):\n",
        "        self.title = title\n",
        "        self.author = author\n",
        "        self.year_published = year_published"
      ],
      "metadata": {
        "id": "9PdQvuKUSg5w"
      },
      "execution_count": 23,
      "outputs": []
    },
    {
      "cell_type": "code",
      "source": [
        "#Ques18: Create a class House with attributes address and price. Create a derived class Mansion that adds an attribute number_of_rooms.\n",
        "class House:\n",
        "    def __init__(self, address, price):\n",
        "        self.address = address\n",
        "        self.price = price"
      ],
      "metadata": {
        "id": "lCRMZnyCSnyq"
      },
      "execution_count": 24,
      "outputs": []
    }
  ]
}